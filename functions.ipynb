{
 "cells": [
  {
   "cell_type": "code",
   "execution_count": 13,
   "metadata": {},
   "outputs": [],
   "source": [
    "from bd import pacientes\n",
    "import pandas as pd"
   ]
  },
  {
   "cell_type": "code",
   "execution_count": 14,
   "metadata": {},
   "outputs": [],
   "source": [
    "#pegar todos os dados\n",
    "pacientes_dados = pacientes.find()\n",
    "pacientes_lista = [x for x in pacientes_dados]\n",
    "pacientes_dataframe = pd.DataFrame(pacientes_lista)"
   ]
  },
  {
   "cell_type": "code",
   "execution_count": 15,
   "metadata": {},
   "outputs": [],
   "source": [
    "html_df = pacientes_dataframe.to_html(classes='table table-stripped')\n",
    "# write html to file\n",
    "text_file = open(\"C:/dev/cia saude/code_versions/clinicaesaude_v2/templates/pacientes_table.html\", \"w\")\n",
    "text_file.write(html_df)\n",
    "text_file.close()\n"
   ]
  }
 ],
 "metadata": {
  "kernelspec": {
   "display_name": "env",
   "language": "python",
   "name": "python3"
  },
  "language_info": {
   "codemirror_mode": {
    "name": "ipython",
    "version": 3
   },
   "file_extension": ".py",
   "mimetype": "text/x-python",
   "name": "python",
   "nbconvert_exporter": "python",
   "pygments_lexer": "ipython3",
   "version": "3.11.1"
  },
  "orig_nbformat": 4
 },
 "nbformat": 4,
 "nbformat_minor": 2
}
